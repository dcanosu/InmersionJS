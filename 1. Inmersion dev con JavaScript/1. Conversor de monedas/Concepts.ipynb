{
 "cells": [
  {
   "cell_type": "markdown",
   "metadata": {},
   "source": [
    "## Conversor de monedas\n",
    "\n",
    "Vamos a trabajar en un proyecto para convertir monedas done podras transformar en pesos un producto que este en dolares y lo mejor desde la protaforma ```CodePen`` es una plataforma donde podemos realizar todo nuestro código desde el navegador y no hay que instalar nada.\n",
    "\n",
    "**Enlace proyecto base** \n",
    "https://codepen.io/Alura-Latam-Inmersion/pen/zYMoKMp\n",
    "\n",
    "**Guía de la inmersion Dev** \n",
    "https://grupoalura.notion.site/Gu-a-de-la-Inmersi-n-Dev-con-Javascript-a9f43b07c60d4c67b75f434d28def385\n",
    "\n",
    "**Tech guide** https://techguide.sh/es/"
   ]
  },
  {
   "cell_type": "markdown",
   "metadata": {},
   "source": [
    "### JavaScript\n",
    "Para agregar funcionalidades de JS debemos referenciar el archivo en nuestro código con ``       <script src=\"monedas.js\"></script>\n",
    "`` y dependiendo de nuestro script este puede estar en el head si tenemos muchas librerias o en el body si queremos mejorar la expiencia de usuario.\n",
    "\n",
    "Para mostrar alerta por pantalla a nuestros usuarios utilizamos la palabra reservada ``alert(\" \")``\n",
    "\n",
    "Cuando utilizamos números se separan con ``.`` y no con ``,`` porque o si no obtenemos un error.\n",
    "\n",
    "Para trabajar con cifras decimales en JS utilizamos el método ``toFixed(cantidad digitos)``\n"
   ]
  },
  {
   "cell_type": "markdown",
   "metadata": {},
   "source": [
    "Para crear una variable podemos utilizar ``var``,``let`` o ``````const``````\n",
    "\n",
    "1. var (Ámbito de función):\n",
    "```js\n",
    "var x = 10;\n",
    "var nombre = \"Juan\";\n",
    "```\n",
    "- Ámbito: Variables declaradas con var tienen ámbito de función o global. Si se declaran dentro de una función, solo son visibles dentro de esa función.\n",
    "- Re-declaración: Se puede re-declarar una variable usando var, lo que puede llevar a errores si no se tiene cuidado.\n",
    "- Hoisting: Las variables declaradas con var son \"elevadas\" al principio de la función o del ámbito global durante la fase de compilación, lo que significa que pueden ser utilizadas antes de su declaración en el código. Sin embargo, su valor será undefined hasta que se les asigne un valor.\n",
    "\n",
    "2. let (Ámbito de bloque):\n",
    "```js\n",
    "let y = 20;\n",
    "let edad = 25;\n",
    "```\n",
    "- Ámbito: let introduce el concepto de \"ámbito de bloque\". Las variables declaradas con let tienen alcance dentro del bloque en el que están definidas (por ejemplo, dentro de un if, for, while, etc.).\n",
    "- Re-asignación: Se pueden reasignar valores, pero no se pueden redeclarar en el mismo ámbito.\n",
    "- No hoisting: A diferencia de var, las variables let no son hoisted (no son elevadas), por lo que no se pueden utilizar antes de su declaración en el código.\n",
    "\n",
    "3. const (Constante):\n",
    "```js\n",
    "const PI = 3.14159;\n",
    "const URL = \"https://www.ejemplo.com\";\n",
    "```\n",
    "- Valor constante: Las variables declaradas con const son constantes, lo que significa que no pueden ser reasignadas después de su inicialización.\n",
    "- Ámbito de bloque: Al igual que let, const también tiene ámbito de bloque.\n",
    "- No hoisting: Al igual que let, las variables const no son hoisted y deben ser inicializadas cuando se declaran.\n",
    "\n",
    "#### Ejemplo de uso\n",
    "```js\n",
    "// var\n",
    "var edad = 30;\n",
    "if (edad > 18) {\n",
    "    var mensaje = \"Eres mayor de edad\";\n",
    "}\n",
    "console.log(mensaje); // Funciona, debido al hoisting\n",
    "\n",
    "// let\n",
    "let i = 10;\n",
    "if (i > 5) {\n",
    "    let mensajeLet = \"i es mayor que 5\";\n",
    "    console.log(mensajeLet); // Funciona\n",
    "}\n",
    "// console.log(mensajeLet); // Error: mensajeLet no está definido fuera del bloque\n",
    "\n",
    "// const\n",
    "const nombre = \"María\";\n",
    "// nombre = \"Ana\"; // Error: no se puede reasignar una constante\n",
    "```\n",
    "\n",
    "En general, se recomienda utilizar ``const`` siempre que sea posible, para evitar mutaciones accidentales de variables. Si necesitas reasignar el valor de una variable, entonces ``let`` es una buena opción. var es menos comúnmente usado en código moderno debido a sus particularidades de ámbito y hoisting, pero aún se puede encontrar en código más antiguo o en situaciones específicas donde su comportamiento es deseado.\n"
   ]
  }
 ],
 "metadata": {
  "kernelspec": {
   "display_name": "Python 3",
   "language": "python",
   "name": "python3"
  },
  "language_info": {
   "name": "python",
   "version": "3.12.0"
  }
 },
 "nbformat": 4,
 "nbformat_minor": 2
}
