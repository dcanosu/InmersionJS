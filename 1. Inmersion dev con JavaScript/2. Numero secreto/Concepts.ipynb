{
 "cells": [
  {
   "cell_type": "markdown",
   "metadata": {},
   "source": [
    "### Número secreto\n",
    "Vamos a realizar un juego para adivinar un número entre 1 a 1000 dandole indicaciones al usuario si es menor y mayor el número ingresado.\n",
    "\n",
    "**Link del proyecto inicial:** https://codepen.io/Alura-Latam-Inmersion/pen/qBQqawM\n",
    "\n",
    "Para poder pedir información al usuario utilizamos la palabra reservada ``prompt``\n",
    "\n",
    "Dentro de javascript tenemos un método que se llama ``parseInt`` para convertir una cadena a un número entero. También tenemos ``Math.random()*1000`` que realizar un sorteo de acuerdo al parametro que indiquemos.\n",
    "\n",
    "```js\n",
    "var numeroSecreto = parseInt(Math.random()*1000 + 1); // se pone + 1 para que no tengamos como resultado el 0\n",
    "```\n",
    "\n",
    "#### Operadores de comparación\n",
    "Igualdad (==) Verifica la igualdad de dos expresiones sin tener en cuenta el tipo de dato. Igualdad estricta (===) Hace lo mismo que el anterior, pero verificando también que coincidan los tipos de datos\n",
    "\n",
    "${(intentos === 1 ? \"vez\" : \"veces\")} Sirve como una condición."
   ]
  }
 ],
 "metadata": {
  "kernelspec": {
   "display_name": "Python 3",
   "language": "python",
   "name": "python3"
  },
  "language_info": {
   "name": "python",
   "version": "3.12.0"
  }
 },
 "nbformat": 4,
 "nbformat_minor": 2
}
