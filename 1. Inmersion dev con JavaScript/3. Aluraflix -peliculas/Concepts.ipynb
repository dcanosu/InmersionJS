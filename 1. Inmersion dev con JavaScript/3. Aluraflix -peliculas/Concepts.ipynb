{
 "cells": [
  {
   "cell_type": "markdown",
   "metadata": {},
   "source": [
    "### Aluraflix\n",
    "Vamos a crear un catalogo de peliculas.\n",
    "\n",
    "Para insertar o manipular diferentes cosas podemos utilizar el objeto  ``document.write()`` para crear objetos y es para conectar el html con el javascript.\n",
    "\n",
    "Pero con write solo estamos copiando el resultado de nuestra variable, para ello vamos a utilizar nuestra etiqueta de html ``img``\n",
    "```js\n",
    "document.write(\"<img src=\" + peliBarbara + \">\");\n",
    "```\n",
    "\n",
    "**Link proyecto original:** https://codepen.io/Daniel-Cano-Su-rez/pen/abxVLaY\n",
    "**Código final:** https://codepen.io/Daniel-Cano-Su-rez/pen/JjVOraZ\n",
    "**Desafios:** https://codepen.io/Daniel-Cano-Su-rez/pen/yLrPzRM"
   ]
  },
  {
   "cell_type": "markdown",
   "metadata": {},
   "source": [
    "### Array o listas:\n",
    "Nos permite guardar varios datos y para declararla es con [] siempre inician desde el 0 en adelante y es una lista ordenada y cada una tiene una posición en memoria.\n",
    "\n",
    "Para mostrar los elementos del array/lista vamos a utilizar un ``for`` y este tiene 3 parametros:\n",
    "\n",
    "\n",
    "1. Creamos una variable no importa el nombre, usualmente la encontramos como ``i(interador)`` y la inicializamos en 0\n",
    "2. Hasta donde se va a estar repitiendo el ciclo.\n",
    "3. Necesitamos que recorra el array y con ese necesitamos que se incremete la i."
   ]
  }
 ],
 "metadata": {
  "kernelspec": {
   "display_name": "Python 3",
   "language": "python",
   "name": "python3"
  },
  "language_info": {
   "name": "python",
   "version": "3.12.0"
  }
 },
 "nbformat": 4,
 "nbformat_minor": 2
}
