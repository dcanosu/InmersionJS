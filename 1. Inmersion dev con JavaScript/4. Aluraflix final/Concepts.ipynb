{
 "cells": [
  {
   "cell_type": "markdown",
   "metadata": {},
   "source": [
    "Vamos agregar un boton para agregar peliculas.\n",
    "\n",
    "Esto se realiza con una funcion y utilizamos la palabra reservada ``function`` en el html es ``onclick`` para saber que va hacer.\n",
    "\n",
    "Los id son idenficadores únicos que los podemos utilizar tanto en el css como en el js y para utilizarlo vamos a invocar ``document.getElementById(\"\")`` y si queremso el contenido debemos poner al final .value\n",
    "\n",
    "Utilizamos innerHTML -> devuelve o establece la sentencia del html se reemplaza la vieja por la nueva.\n",
    "\n",
    "**link desafio** https://codepen.io/Daniel-Cano-Su-rez/pen/vYMWWjN"
   ]
  }
 ],
 "metadata": {
  "kernelspec": {
   "display_name": "Python 3",
   "language": "python",
   "name": "python3"
  },
  "language_info": {
   "name": "python",
   "version": "3.12.0"
  }
 },
 "nbformat": 4,
 "nbformat_minor": 2
}
